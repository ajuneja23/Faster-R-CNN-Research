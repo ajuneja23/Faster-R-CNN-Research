{
  "nbformat": 4,
  "nbformat_minor": 0,
  "metadata": {
    "colab": {
      "name": "Data_Processing",
      "provenance": []
    },
    "kernelspec": {
      "name": "python3",
      "display_name": "Python 3"
    },
    "language_info": {
      "name": "python"
    }
  },
  "cells": [
    {
      "cell_type": "code",
      "execution_count": null,
      "metadata": {
        "id": "MXKm1_aJI-Ni"
      },
      "outputs": [],
      "source": [
        "#Credits to https://towardsdatascience.com/faster-r-cnn-object-detection-implemented-by-keras-for-custom-data-from-googles-open-images-125f62b9141a\n",
        "#for assisting me in this process\n",
        "import cv2\n",
        "from matplotlib import pyplot as plt\n",
        "import numpy as np\n",
        "import os\n",
        "import pandas as pd\n",
        "import random\n",
        "from skimage import io\n",
        "from shutil import copyfile\n",
        "import sys\n",
        "import time\n",
        "\n",
        "import tensorflow as tf\n",
        "from tensorflow.keras.preprocessing.image import load_img, img_to_array\n"
      ]
    },
    {
      "cell_type": "code",
      "source": [
        "!wget https://storage.googleapis.com/openimages/2018_04/train/train-annotations-bbox.csv"
      ],
      "metadata": {
        "id": "vnFk9uLcJM_b"
      },
      "execution_count": null,
      "outputs": []
    },
    {
      "cell_type": "code",
      "source": [
        "!wget https://storage.googleapis.com/openimages/2018_04/train/train-images-boxable-with-rotation.csv\n"
      ],
      "metadata": {
        "id": "lN4q2k0EJRlQ"
      },
      "execution_count": null,
      "outputs": []
    },
    {
      "cell_type": "code",
      "source": [
        "!wget https://storage.googleapis.com/openimages/v5/class-descriptions-boxable.csv"
      ],
      "metadata": {
        "id": "goAvgjmYJSUs"
      },
      "execution_count": null,
      "outputs": []
    },
    {
      "cell_type": "code",
      "source": [
        "images_boxable_fname = 'train-images-boxable-with-rotation.csv'\n",
        "annotations_bbox_fname = 'train-annotations-bbox.csv'\n",
        "class_descriptions_fname = 'class-descriptions-boxable.csv'\n",
        "images_boxable = pd.read_csv(images_boxable_fname)\n",
        "images_boxable.head()"
      ],
      "metadata": {
        "id": "jO21C5O-JXgm"
      },
      "execution_count": null,
      "outputs": []
    },
    {
      "cell_type": "code",
      "source": [
        "annotations_bbox = pd.read_csv(annotations_bbox_fname)\n",
        "annotations_bbox.head()"
      ],
      "metadata": {
        "id": "SBRXfSxGJeRj"
      },
      "execution_count": null,
      "outputs": []
    },
    {
      "cell_type": "code",
      "source": [
        "class_descriptions = pd.read_csv(class_descriptions_fname, header=None)\n",
        "class_descriptions.head()"
      ],
      "metadata": {
        "id": "5MftsvGiJicU"
      },
      "execution_count": null,
      "outputs": []
    },
    {
      "cell_type": "code",
      "source": [
        "def plot_bbox(img_id):\n",
        "  img_url = images_boxable.loc[images_boxable[\"ImageID\"]==img_id]['OriginalURL'].values[0]\n",
        "  img = io.imread(img_url)\n",
        "  height, width, channel = img.shape\n",
        "  print(f\"Image: {img.shape}\")\n",
        "  bboxs = annotations_bbox[annotations_bbox['ImageID']==img_id]\n",
        "  for index, row in bboxs.iterrows():\n",
        "      xmin = row['XMin']\n",
        "      xmax = row['XMax']\n",
        "      ymin = row['YMin']\n",
        "      ymax = row['YMax']\n",
        "      xmin = int(xmin*width)\n",
        "      xmax = int(xmax*width)\n",
        "      ymin = int(ymin*height)\n",
        "      ymax = int(ymax*height)\n",
        "      label_name = row['LabelName']\n",
        "      class_series = class_descriptions[class_descriptions[0]==label_name]\n",
        "      class_name = class_series[1].values[0]\n",
        "      print(f\"Coordinates: {xmin,ymin}, {xmax,ymax}\")\n",
        "      cv2.rectangle(img, (xmin,ymin), (xmax,ymax), (255,0,0), 5)\n",
        "      font = cv2.FONT_HERSHEY_SIMPLEX\n",
        "      cv2.putText(img, class_name, (xmin,ymin-10), font, 3, (0,255,0), 5)\n",
        "  plt.figure(figsize=(15,10))\n",
        "  plt.title('Image with Bounding Box')\n",
        "  plt.imshow(img)\n",
        "  plt.axis(\"off\")\n",
        "  plt.show()"
      ],
      "metadata": {
        "id": "tFX4ayOZJnsU"
      },
      "execution_count": null,
      "outputs": []
    },
    {
      "cell_type": "code",
      "source": [
        "least_objects_img_ids = annotations_bbox[\"ImageID\"].value_counts().tail(50).index.values\n",
        "for img_id in random.sample(list(least_objects_img_ids), 5):\n",
        "  plot_bbox(img_id)\n"
      ],
      "metadata": {
        "id": "fp5NwnE8JrUO"
      },
      "execution_count": null,
      "outputs": []
    },
    {
      "cell_type": "code",
      "source": [
        "class_descriptions.loc[class_descriptions[1].isin(['Person', 'Bicycle wheel', 'Car'])]\n"
      ],
      "metadata": {
        "id": "6px0kRhjJ8oM"
      },
      "execution_count": null,
      "outputs": []
    },
    {
      "cell_type": "code",
      "source": [
        ""
      ],
      "metadata": {
        "id": "lAdw_EIP_rBP"
      },
      "execution_count": null,
      "outputs": []
    },
    {
      "cell_type": "code",
      "source": [
        "person_pd = class_descriptions[class_descriptions[1]=='Person']\n",
        "phone_pd = class_descriptions[class_descriptions[1]=='Bicycle wheel']\n",
        "car_pd = class_descriptions[class_descriptions[1]=='Car']\n",
        "\n",
        "label_name_person = person_pd[0].values[0]\n",
        "label_name_phone = phone_pd[0].values[0]\n",
        "label_name_car = car_pd[0].values[0]\n"
      ],
      "metadata": {
        "id": "ItCOQ_AhKZia"
      },
      "execution_count": null,
      "outputs": []
    },
    {
      "cell_type": "code",
      "source": [
        "person_bbox = annotations_bbox[annotations_bbox['LabelName']==label_name_person]\n",
        "phone_bbox = annotations_bbox[annotations_bbox['LabelName']==label_name_phone]\n",
        "car_bbox = annotations_bbox[annotations_bbox['LabelName']==label_name_car]\n",
        "print('There are %d persons in the dataset' %(len(person_bbox)))\n",
        "print('There are %d phones in the dataset' %(len(phone_bbox)))\n",
        "print('There are %d cars in the dataset' %(len(car_bbox)))\n",
        "person_img_id = person_bbox['ImageID']\n",
        "phone_img_id = phone_bbox['ImageID']\n",
        "car_img_id = car_bbox['ImageID']"
      ],
      "metadata": {
        "id": "A-r_WQ4KKcp8"
      },
      "execution_count": null,
      "outputs": []
    },
    {
      "cell_type": "code",
      "source": [
        "person_img_id = np.unique(person_img_id)\n",
        "phone_img_id = np.unique(phone_img_id)\n",
        "car_img_id = np.unique(car_img_id)\n",
        "print('There are %d images which contain persons' % (len(person_img_id)))\n",
        "print('There are %d images which contain phones' % (len(phone_img_id)))\n",
        "print('There are %d images which contain cars' % (len(car_img_id)))"
      ],
      "metadata": {
        "id": "S66SnjkLKlLB"
      },
      "execution_count": null,
      "outputs": []
    },
    {
      "cell_type": "code",
      "source": [
        "n = 10\n",
        "subperson_img_id = random.sample(list(person_img_id), n)\n",
        "subphone_img_id = random.sample(list(phone_img_id), n)\n",
        "subcar_img_id = random.sample(list(car_img_id), n)\n",
        "subperson_pd = images_boxable.loc[images_boxable['ImageID'].isin(subperson_img_id)]\n",
        "subphone_pd = images_boxable.loc[images_boxable['ImageID'].isin(subphone_img_id)]\n",
        "subcar_pd = images_boxable.loc[images_boxable['ImageID'].isin(subcar_img_id)]"
      ],
      "metadata": {
        "id": "6WsPKUHIKrhh"
      },
      "execution_count": null,
      "outputs": []
    },
    {
      "cell_type": "code",
      "source": [
        "subperson_pd.shape"
      ],
      "metadata": {
        "id": "F78pGB16Ktby"
      },
      "execution_count": null,
      "outputs": []
    },
    {
      "cell_type": "code",
      "source": [
        "subperson_pd.head()"
      ],
      "metadata": {
        "id": "9UBHTVzSKvo6"
      },
      "execution_count": null,
      "outputs": []
    },
    {
      "cell_type": "code",
      "source": [
        ""
      ],
      "metadata": {
        "id": "tOK7tXOWKzyc"
      },
      "execution_count": null,
      "outputs": []
    },
    {
      "cell_type": "code",
      "source": [
        "subperson_dict = subperson_pd[[\"ImageID\", \"OriginalURL\"]].set_index('ImageID')[\"OriginalURL\"].to_dict()\n",
        "subphone_dict = subphone_pd[[\"ImageID\", \"OriginalURL\"]].set_index('ImageID')[\"OriginalURL\"].to_dict()\n",
        "subcar_dict = subcar_pd[[\"ImageID\", \"OriginalURL\"]].set_index('ImageID')[\"OriginalURL\"].to_dict()"
      ],
      "metadata": {
        "id": "pyH8E6tB_CeN"
      },
      "execution_count": null,
      "outputs": []
    },
    {
      "cell_type": "code",
      "source": [
        "mappings = [subperson_dict, subphone_dict, subcar_dict]\n",
        "len(mappings)"
      ],
      "metadata": {
        "id": "iwGvJVd4_D_Y"
      },
      "execution_count": null,
      "outputs": []
    },
    {
      "cell_type": "code",
      "source": [
        "len(mappings[0])\n"
      ],
      "metadata": {
        "id": "1LjB092H_J1Y"
      },
      "execution_count": null,
      "outputs": []
    },
    {
      "cell_type": "code",
      "source": [
        "classes = ['Person', 'Bicycle wheel', 'Car']"
      ],
      "metadata": {
        "id": "xO7gDH6t_Md3"
      },
      "execution_count": null,
      "outputs": []
    },
    {
      "cell_type": "code",
      "source": [
        "# download images\n",
        "for idx, obj_type in enumerate(classes):\n",
        "  n_issues = 0\n",
        "  # create the directory\n",
        "  if not os.path.exists(obj_type):\n",
        "    os.mkdir(obj_type)\n",
        "  for img_id, url in mappings[idx].items():\n",
        "    try:\n",
        "      img = io.imread(url)\n",
        "      saved_path = os.path.join(obj_type, img_id+\".jpg\")\n",
        "      io.imsave(saved_path, img)\n",
        "    except Exception as e:\n",
        "      n_issues += 1\n",
        "  print(f\"Images Issues: {n_issues}\")"
      ],
      "metadata": {
        "id": "v_O620I7_QGF"
      },
      "execution_count": null,
      "outputs": []
    },
    {
      "cell_type": "code",
      "source": [
        "!ls Person | wc -l"
      ],
      "metadata": {
        "id": "gw5rwN7o_tjy"
      },
      "execution_count": null,
      "outputs": []
    },
    {
      "cell_type": "code",
      "source": [
        "!ls Bicycle \\ wheel | wc -l"
      ],
      "metadata": {
        "id": "rDJ5a-lg_tc6"
      },
      "execution_count": null,
      "outputs": []
    },
    {
      "cell_type": "code",
      "source": [
        "!ls Car | wc -l"
      ],
      "metadata": {
        "id": "AInhSWZH_tO8"
      },
      "execution_count": null,
      "outputs": []
    },
    {
      "cell_type": "code",
      "source": [
        "train_path = 'train'\n",
        "test_path = 'test'\n",
        "!mkdir train test"
      ],
      "metadata": {
        "id": "45eDDn5Z_8nG"
      },
      "execution_count": null,
      "outputs": []
    },
    {
      "cell_type": "code",
      "source": [
        "random.seed(1)"
      ],
      "metadata": {
        "id": "uiccTcIy__iE"
      },
      "execution_count": null,
      "outputs": []
    },
    {
      "cell_type": "code",
      "source": [
        "for i in range(len(classes)):\n",
        "    all_imgs = os.listdir(classes[i])\n",
        "    all_imgs = [f for f in all_imgs if not f.startswith('.')]\n",
        "    random.shuffle(all_imgs)\n",
        "    \n",
        "    limit = int(n*0.8)\n",
        "\n",
        "    train_imgs = all_imgs[:limit]\n",
        "    test_imgs = all_imgs[limit:]\n",
        "    \n",
        "    # copy each classes' images to train directory\n",
        "    for j in range(len(train_imgs)):\n",
        "        original_path = os.path.join(classes[i], train_imgs[j])\n",
        "        new_path = os.path.join(train_path, train_imgs[j])\n",
        "        copyfile(original_path, new_path)\n",
        "    \n",
        "    # copy each classes' images to test directory\n",
        "    for j in range(len(test_imgs)):\n",
        "        original_path = os.path.join(classes[i], test_imgs[j])\n",
        "        new_path = os.path.join(test_path, test_imgs[j])\n",
        "        copyfile(original_path, new_path)"
      ],
      "metadata": {
        "id": "aTNKDFxhAGUi"
      },
      "execution_count": null,
      "outputs": []
    },
    {
      "cell_type": "code",
      "source": [
        "!ls train | wc -l"
      ],
      "metadata": {
        "id": "craXu9snAJiC"
      },
      "execution_count": null,
      "outputs": []
    },
    {
      "cell_type": "code",
      "source": [
        "!ls test | wc -l"
      ],
      "metadata": {
        "id": "jiqh0tD5ANji"
      },
      "execution_count": null,
      "outputs": []
    },
    {
      "cell_type": "code",
      "source": [
        "label_names = [label_name_person, label_name_phone, label_name_car]\n",
        "\n",
        "train_df = pd.DataFrame(columns=['FileName', 'XMin', 'XMax', 'YMin', 'YMax', 'ClassName'])\n",
        "\n",
        "# Find boxes in each image and put them in a dataframe\n",
        "train_imgs = os.listdir(train_path)\n",
        "train_imgs = [name for name in train_imgs if not name.startswith('.')]\n",
        "\n",
        "for i in range(len(train_imgs)):\n",
        "    sys.stdout.write('Parse train_imgs ' + str(i) + '; Number of boxes: ' + str(len(train_df)) + '\\r')\n",
        "    sys.stdout.flush()\n",
        "    img_name = train_imgs[i]\n",
        "    img_id = img_name[0:16]\n",
        "    tmp_df = annotations_bbox[annotations_bbox['ImageID']==img_id]\n",
        "    for index, row in tmp_df.iterrows():\n",
        "        labelName = row['LabelName']\n",
        "        for i in range(len(label_names)):\n",
        "            if labelName == label_names[i]:\n",
        "                train_df = train_df.append({'FileName': img_name, \n",
        "                                            'XMin': row['XMin'], \n",
        "                                            'XMax': row['XMax'], \n",
        "                                            'YMin': row['YMin'], \n",
        "                                            'YMax': row['YMax'], \n",
        "                                            'ClassName': classes[i]}, \n",
        "                                           ignore_index=True)"
      ],
      "metadata": {
        "id": "n782w6B2AY2N"
      },
      "execution_count": null,
      "outputs": []
    },
    {
      "cell_type": "code",
      "source": [
        "train_df.head()"
      ],
      "metadata": {
        "id": "1PTSK9tHAcc_"
      },
      "execution_count": null,
      "outputs": []
    },
    {
      "cell_type": "code",
      "source": [
        "train_df.shape"
      ],
      "metadata": {
        "id": "JBVXtjPDAct5"
      },
      "execution_count": null,
      "outputs": []
    },
    {
      "cell_type": "code",
      "source": [
        "train_img_ids = train_df[\"FileName\"].head().str.split(\".\").str[0].unique()\n",
        "for img_id in train_img_ids:\n",
        "  plot_bbox(img_id)"
      ],
      "metadata": {
        "id": "evKMVTo-AiJb"
      },
      "execution_count": null,
      "outputs": []
    },
    {
      "cell_type": "code",
      "source": [
        "test_df = pd.DataFrame(columns=['FileName', 'XMin', 'XMax', 'YMin', 'YMax', 'ClassName'])\n",
        "\n",
        "# find boxes in each image and put them in a dataframe\n",
        "test_imgs = os.listdir(test_path)\n",
        "test_imgs = [name for name in test_imgs if not name.startswith('.')]\n",
        "\n",
        "for i in range(len(test_imgs)):\n",
        "    sys.stdout.write('Parse test_imgs ' + str(i) + '; Number of boxes: ' + str(len(test_df)) + '\\r')\n",
        "    sys.stdout.flush()\n",
        "    img_name = test_imgs[i]\n",
        "    img_id = img_name[0:16]\n",
        "    tmp_df = annotations_bbox[annotations_bbox['ImageID']==img_id]\n",
        "    for index, row in tmp_df.iterrows():\n",
        "        labelName = row['LabelName']\n",
        "        for i in range(len(label_names)):\n",
        "            if labelName == label_names[i]:\n",
        "                test_df = test_df.append({'FileName': img_name, \n",
        "                                            'XMin': row['XMin'], \n",
        "                                            'XMax': row['XMax'], \n",
        "                                            'YMin': row['YMin'], \n",
        "                                            'YMax': row['YMax'], \n",
        "                                            'ClassName': classes[i]}, \n",
        "                                           ignore_index=True)\n",
        "train_df.to_csv('train.csv')\n",
        "test_df.to_csv('test.csv')"
      ],
      "metadata": {
        "id": "-mSRSexAAqmt"
      },
      "execution_count": null,
      "outputs": []
    },
    {
      "cell_type": "code",
      "source": [
        "train_df = pd.read_csv('train.csv')\n",
        "\n",
        "# for training\n",
        "with open(\"annotation.txt\", \"w+\") as f:\n",
        "  for idx, row in train_df.iterrows():\n",
        "      img = cv2.imread('train/' + row['FileName'])\n",
        "      height, width = img.shape[:2]\n",
        "      x1 = int(row['XMin'] * width)\n",
        "      x2 = int(row['XMax'] * width)\n",
        "      y1 = int(row['YMin'] * height)\n",
        "      y2 = int(row['YMax'] * height)\n",
        "      \n",
        "      google_colab_file_path = 'drive/My Drive/AI/Dataset/Open Images Dataset v4 (Bounding Boxes)/train'\n",
        "      fileName = os.path.join(google_colab_file_path, row['FileName'])\n",
        "      className = row['ClassName']\n",
        "      f.write(fileName + ',' + str(x1) + ',' + str(y1) + ',' + str(x2) + ',' + str(y2) + ',' + className + '\\n')"
      ],
      "metadata": {
        "id": "X90MPnA6Bw6H"
      },
      "execution_count": null,
      "outputs": []
    },
    {
      "cell_type": "code",
      "source": [
        "test_df = pd.read_csv('test.csv')\n",
        "\n",
        "# for test\n",
        "with open(\"test_annotation.txt\", \"w+\") as f:\n",
        "  for idx, row in test_df.iterrows():\n",
        "      sys.stdout.write(str(idx) + '\\r')\n",
        "      sys.stdout.flush()\n",
        "      img = cv2.imread('test/' + row['FileName'])\n",
        "      height, width = img.shape[:2]\n",
        "      x1 = int(row['XMin'] * width)\n",
        "      x2 = int(row['XMax'] * width)\n",
        "      y1 = int(row['YMin'] * height)\n",
        "      y2 = int(row['YMax'] * height)\n",
        "      \n",
        "      google_colab_file_path = 'drive/My Drive/AI/Dataset/Open Images Dataset v4 (Bounding Boxes)/test'\n",
        "      fileName = os.path.join(google_colab_file_path, row['FileName'])\n",
        "      className = row['ClassName']\n",
        "      f.write(fileName + ',' + str(x1) + ',' + str(y1) + ',' + str(x2) + ',' + str(y2) + ',' + className + '\\n')"
      ],
      "metadata": {
        "id": "X7oqCyXaB4Q0"
      },
      "execution_count": null,
      "outputs": []
    }
  ]
}